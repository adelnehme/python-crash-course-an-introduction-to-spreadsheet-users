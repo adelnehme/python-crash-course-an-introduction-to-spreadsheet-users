{
  "nbformat": 4,
  "nbformat_minor": 0,
  "metadata": {
    "colab": {
      "name": "Python Crash Course—An Introduction to Spreadsheet Users.ipynb",
      "provenance": []
    },
    "kernelspec": {
      "name": "python3",
      "display_name": "Python 3"
    }
  },
  "cells": [
    {
      "cell_type": "markdown",
      "metadata": {
        "id": "6Ijg5wUCTQYG"
      },
      "source": [
        "<p align=\"center\">\n",
        "<img src=\"https://github.com/adelnehme/python-crash-course-an-introduction-to-spreadsheet-users/blob/main/assets/dc_logo.png?raw=true\" alt = \"DataCamp Amazon icon\" width=\"65%\">\n",
        "</p>\n",
        "\n",
        "\n",
        "## **Python Crash Course—An Introduction to Spreadsheet Users**\n",
        "\n",
        "\n",
        "### **Key session takeaways**\n",
        "\n",
        "* Import data into Python using `pandas` — Python’s most popular data analysis package.\n",
        "* Filter, add new columns, and analyse datasets using pandas.\n",
        "* Present data visualizations using `matplotlib` and `seaborn` — Python's most popular data visualization packages.\n",
        "\n",
        "### **The Dataset**\n",
        "\n",
        "The dataset to be used in this training is a CSV file named `airbnb.csv`, which contains data on airbnb listings in the state of New York. It contains the following columns:\n",
        "\n",
        "- `listing_id`: The unique identifier for a listing\n",
        "- `description`: The description used on the listing\n",
        "- `host_id`: Unique identifier for a host\n",
        "- `neighbourhood_full`: Name of boroughs and neighbourhoods\n",
        "- `coordinates`: Coordinates of listing _(latitude, longitude)_\n",
        "- `listing_added`: Date of added listing\n",
        "- `room_type`: Type of room \n",
        "- `rating`: Rating from 0 to 5.\n",
        "- `price`: Price per night for listing\n",
        "- `number_of_reviews`: Amount of reviews received \n",
        "- `reviews_per_month`: Number of reviews per month\n",
        "- `availability_365`: Number of days available per year\n",
        "- `number_of_stays`: Total number of stays thus far\n",
        "\n",
        "### **Questions to answer**\n",
        "\n",
        "- **Question 1:** What is the distribution of price per room type?\n",
        "- **Question 2:** What is the number of listings per borough?\n",
        "- **Question 3:** What is the number of listings per year?\n",
        "- **Question 4:** What is the number of listings per year in each borough?\n"
      ]
    },
    {
      "cell_type": "markdown",
      "metadata": {
        "id": "3iYheCTZ-kiq"
      },
      "source": [
        "## **Getting started**"
      ]
    },
    {
      "cell_type": "code",
      "metadata": {
        "id": "EMQfyC7GUNhT"
      },
      "source": [
        "# Import libraries\n"
      ],
      "execution_count": 1,
      "outputs": []
    },
    {
      "cell_type": "markdown",
      "metadata": {
        "id": "AGaYTBLYQUEe"
      },
      "source": [
        "<font color=#03ef62>*To import a CSV file into* `pandas` *, we use* </font> `data = pd.read_csv(file_path)` <font color=#03ef62> *check out this [documentation](https://pandas.pydata.org/pandas-docs/stable/user_guide/io.html) for importing other data types*<font color=#03ef62>\n"
      ]
    },
    {
      "cell_type": "code",
      "metadata": {
        "id": "l8t_EwRNZPLB"
      },
      "source": [
        "# Read in the dataset\n"
      ],
      "execution_count": 2,
      "outputs": []
    },
    {
      "cell_type": "markdown",
      "metadata": {
        "id": "rGBXPrA0SEJZ"
      },
      "source": [
        "<font color=03ef62>*Some common methods needed to get a better understanding of your DataFrames:*<font color=03ef62>\n",
        "\n",
        "- `data.head()` <font color=03ef62>*prints the first 5 rows*</font>\n",
        "- `data.describe()` <font color=03ef62>*prints the distribution of numeric columns*</font>\n",
        "- `data.info()` <font color=03ef62>*prints the missingness and data types of columns*</font>"
      ]
    },
    {
      "cell_type": "code",
      "metadata": {
        "id": "QdUb07i370zA"
      },
      "source": [
        "# Inspect header of dataset\n"
      ],
      "execution_count": null,
      "outputs": []
    },
    {
      "cell_type": "code",
      "metadata": {
        "id": "OwgWHyKF8b7F"
      },
      "source": [
        "# Check description of dataset\n"
      ],
      "execution_count": null,
      "outputs": []
    },
    {
      "cell_type": "code",
      "metadata": {
        "id": "1asOzFL-7oOi"
      },
      "source": [
        "# Check information of dataset\n"
      ],
      "execution_count": null,
      "outputs": []
    },
    {
      "cell_type": "markdown",
      "metadata": {
        "id": "fC7RVpt-UcRD"
      },
      "source": [
        "## **Data Cleaning**"
      ]
    },
    {
      "cell_type": "markdown",
      "metadata": {
        "id": "rG5PDhllUXL7"
      },
      "source": [
        "### **Data cleaning to-do list!**\n",
        "\n",
        "_Data Type Problems_\n",
        "\n",
        "- _**Task 1**: Remove_ `$` _from_ `price` _and convert it to_ `float`\n",
        "- _**Task 2**: Convert_ `listing_added` _to_ `datetime`\n",
        "\n",
        "<br>\n",
        "\n",
        "_Text/categorical data problems:_\n",
        "\n",
        "- _**Task 3**: Extract borough from_ `neighbourhood_full`\n",
        "\n",
        "<br>\n",
        "\n",
        "_Dealing with missing data:_\n",
        "\n",
        "- _**Task 4**: Deal with missing data in_ `host_id` _and_ `description` _columns_\n",
        "\n",
        "<br>\n"
      ]
    },
    {
      "cell_type": "markdown",
      "metadata": {
        "id": "_WbgrwVHVLoU"
      },
      "source": [
        "##### **Task 1:** Remove `$` from `price` and convert it to `float`\n"
      ]
    },
    {
      "cell_type": "markdown",
      "metadata": {
        "id": "7ugtMIioXim8"
      },
      "source": [
        "<font color=\"03ef62\"> _To remove a character from a string column, we can use:_ </font>\n",
        "\n",
        "```\n",
        "data['column_name'] = data['column_name'].str.strip(character)\n",
        "```\n",
        "\n",
        "<font color=\"03ef62\"> _To convert a numeric column to a float, we can use:_ </font>\n",
        "\n",
        "```\n",
        "data['column_name'] = data['column_name'].astype('float')\n",
        "```"
      ]
    },
    {
      "cell_type": "code",
      "metadata": {
        "id": "yMm6udxH9O4C"
      },
      "source": [
        "# Strip $ from price column\n",
        "\n",
        "# Convert price column to float\n",
        "\n",
        "\n",
        "# Print header again\n"
      ],
      "execution_count": null,
      "outputs": []
    },
    {
      "cell_type": "markdown",
      "metadata": {
        "id": "_yDCiMLSYsBH"
      },
      "source": [
        "##### **Task 2:** Convert `listing_added` to `datetime`\n",
        "\n",
        "<font color=\"03ef62\"> _To convert a date column to_ </font> `datetime`<font color=\"03ef62\">_, we can use:_\n",
        "\n",
        "\n",
        "```\n",
        "data['column_name'] = pd.to_datetime(data['column_name'])\n",
        "```"
      ]
    },
    {
      "cell_type": "code",
      "metadata": {
        "id": "g_sXwhjNYreC"
      },
      "source": [
        "# Convert listing_added to datetime\n",
        "\n",
        "# Print info again\n"
      ],
      "execution_count": null,
      "outputs": []
    },
    {
      "cell_type": "markdown",
      "metadata": {
        "id": "9GkHzvjoZkKn"
      },
      "source": [
        "##### **Task 3:** Extract borough from `neighbourhood_full` column\n",
        "\n",
        "<font color=\"03ef62\"> _To split a column into multiple columns, we can use:_</font>\n",
        "\n",
        "```\n",
        "split_data = data['column_name'].str.split(',', expand = True)\n",
        "```\n"
      ]
    },
    {
      "cell_type": "code",
      "metadata": {
        "id": "HLChdRXM9rKe"
      },
      "source": [
        "# Create new DataFrame with split column\n",
        "\n"
      ],
      "execution_count": null,
      "outputs": []
    },
    {
      "cell_type": "code",
      "metadata": {
        "id": "NO79JROB-CF-"
      },
      "source": [
        "# Create borough and neighbourhood columns\n",
        "\n",
        "\n",
        "# Print header of columns\n"
      ],
      "execution_count": null,
      "outputs": []
    },
    {
      "cell_type": "code",
      "metadata": {
        "id": "7AmAW7HL-QeT"
      },
      "source": [
        "# Drop original neighbourhood_full column\n"
      ],
      "execution_count": null,
      "outputs": []
    },
    {
      "cell_type": "markdown",
      "metadata": {
        "id": "I83nD4hkalO6"
      },
      "source": [
        "##### **Task 4:** Deal with missing values in `host_id` and `description` columns\n",
        "\n",
        "\n",
        "<font color=\"03ef62\"> _To count and drop missing values in a DataFrame, you can use the following:_</font>\n",
        "\n",
        "- `data.isna().sum()` <font color=\"03ef62\">_to count missing values_</font>\n",
        "- `data.dropna()` <font color=\"03ef62\">_drops missing values_</font>"
      ]
    },
    {
      "cell_type": "code",
      "metadata": {
        "id": "ivcJHiXV-fSx"
      },
      "source": [
        "# Find missing values\n"
      ],
      "execution_count": null,
      "outputs": []
    },
    {
      "cell_type": "code",
      "metadata": {
        "id": "-MhQ9CKk_gbE"
      },
      "source": [
        "# Drop missing values\n",
        "\n",
        "# Count missing values again\n"
      ],
      "execution_count": null,
      "outputs": []
    },
    {
      "cell_type": "markdown",
      "metadata": {
        "id": "DQ7_YaiI_buy"
      },
      "source": [
        "\n",
        "\n",
        "---\n",
        "\n",
        "<center><h1> Q&A</h1> </center>\n",
        "\n",
        "---\n",
        "\n",
        "\n",
        "\n"
      ]
    },
    {
      "cell_type": "markdown",
      "metadata": {
        "id": "Af25ZWEsccse"
      },
      "source": [
        "## **Data Analysis and Visualization**"
      ]
    },
    {
      "cell_type": "markdown",
      "metadata": {
        "id": "ucpwJpmacfem"
      },
      "source": [
        "##### **Question 1:** What is the distribution of price per room type?\n",
        "\n",
        "\n",
        "<p align=\"center\">\n",
        "<img src=\"https://github.com/adelnehme/python-crash-course-an-introduction-to-spreadsheet-users/blob/main/assets/boxplot_image.png?raw=true\" alt = \"boxplot\" width=\"65%\">\n",
        "</p>\n",
        "\n",
        "\n",
        "<font color=\"03ef62\"> _To create a boxplot using_</font> `seaborn`<font color=\"03ef62\"> _we can use:_</font>\n",
        "\n",
        "- `sns.boxplot(x = , y = , data = )`\n",
        "  - `x`: <font color=\"03ef62\"> _column name on x-axis_</font> \n",
        "  - `y`: <font color=\"03ef62\"> _column name on y-axis_</font> \n",
        "  - `data`: <font color=\"03ef62\"> _data being used_</font> \n",
        "- `plt.title()`: <font color=\"03ef62\"> _sets plot title_</font> \n",
        "- `plt.xlabel()`: <font color=\"03ef62\"> _sets x-axis label_</font> \n",
        "- `plt.ylabel()`: <font color=\"03ef62\"> _sets y-axis label_</font> \n",
        "- `plt.show()`: <font color=\"03ef62\"> _shows plot_</font>  \n"
      ]
    },
    {
      "cell_type": "code",
      "metadata": {
        "id": "aJkzeme6F-_Z"
      },
      "source": [
        "# Visualize price by room type\n",
        "\n",
        "# Create plot\n",
        "\n",
        "# Set titles and labels of plot\n",
        "\n",
        "# Set y-axis limit\n",
        "\n",
        "# Show plot\n"
      ],
      "execution_count": null,
      "outputs": []
    },
    {
      "cell_type": "markdown",
      "metadata": {
        "id": "UygF0fk_c6ju"
      },
      "source": [
        "##### **Question 2:** What are the number of listings per borough?"
      ]
    },
    {
      "cell_type": "markdown",
      "metadata": {
        "id": "TdmAosgRr_uo"
      },
      "source": [
        "<font color=\"03ef62\"> _To easily show the count of observations in each category using_</font> `seaborn`<font color=\"03ef62\"> _we can use:_</font>\n",
        "\n",
        "- `sns.countplot(x = , data = )`\n",
        "  - `x`: <font color=\"03ef62\"> _categorical column name on x-axis_</font> \n",
        "  - `data`: <font color=\"03ef62\"> _data being used_</font> \n",
        "- `plt.title()`: <font color=\"03ef62\"> _sets plot title_</font> \n",
        "- `plt.xlabel()`: <font color=\"03ef62\"> _sets x-axis label_</font> \n",
        "- `plt.ylabel()`: <font color=\"03ef62\"> _sets y-axis label_</font> \n",
        "- `plt.show()`: <font color=\"03ef62\"> _shows plot_</font>  "
      ]
    },
    {
      "cell_type": "code",
      "metadata": {
        "id": "bYoXuZrPIcK4"
      },
      "source": [
        "# Count the amount of listings per borough\n",
        "\n",
        "# Set titles and labels of plot\n",
        "\n",
        "\n",
        "# Show plot\n"
      ],
      "execution_count": null,
      "outputs": []
    },
    {
      "cell_type": "markdown",
      "metadata": {
        "id": "SYAO_vpydLGS"
      },
      "source": [
        "##### **Question 3:** What are the number of listings per year?"
      ]
    },
    {
      "cell_type": "code",
      "metadata": {
        "id": "VMw8SMQYMDmW"
      },
      "source": [
        "# Extract listing year column from listing_added column\n"
      ],
      "execution_count": null,
      "outputs": []
    },
    {
      "cell_type": "code",
      "metadata": {
        "id": "CubbpSwbdkYp"
      },
      "source": [
        "# Set figure size\n",
        "\n",
        "\n",
        "# Count the number of listings per year\n",
        "\n",
        "\n",
        "# Set titles and labels of plot\n",
        "\n",
        "\n",
        "# Show plot\n"
      ],
      "execution_count": null,
      "outputs": []
    },
    {
      "cell_type": "markdown",
      "metadata": {
        "id": "2BQMyv8gdr2p"
      },
      "source": [
        "##### **Question 4:** What are the number of listings per year in each borough?"
      ]
    },
    {
      "cell_type": "code",
      "metadata": {
        "id": "deHFhfRMNfTt"
      },
      "source": [
        "# Set figure size\n",
        "\n",
        "# Count the number of listings per year for each borough\n",
        "\n",
        "# Set titles and labels of plot\n",
        "\n",
        "\n",
        "# Show title\n"
      ],
      "execution_count": null,
      "outputs": []
    },
    {
      "cell_type": "markdown",
      "metadata": {
        "id": "DiWWq3D6_tPP"
      },
      "source": [
        "\n",
        "\n",
        "---\n",
        "\n",
        "<center><h1> Q&A</h1> </center>\n",
        "\n",
        "---\n",
        "\n",
        "\n",
        "\n"
      ]
    }
  ]
}
