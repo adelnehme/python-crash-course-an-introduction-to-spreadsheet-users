{
  "nbformat": 4,
  "nbformat_minor": 0,
  "metadata": {
    "colab": {
      "name": "Python Crash Course—An Introduction to Spreadsheet Users_Solution.ipynb",
      "provenance": []
    },
    "kernelspec": {
      "name": "python3",
      "display_name": "Python 3"
    }
  },
  "cells": [
    {
      "cell_type": "markdown",
      "metadata": {
        "id": "6Ijg5wUCTQYG"
      },
      "source": [
        "<p align=\"center\">\n",
        "<img src=\"https://github.com/adelnehme/python-crash-course-an-introduction-to-spreadsheet-users/blob/main/assets/dc_logo.png?raw=true\" alt = \"DataCamp Amazon icon\" width=\"65%\">\n",
        "</p>\n",
        "\n",
        "\n",
        "## **Python Crash Course—An Introduction to Spreadsheet Users**\n",
        "\n",
        "\n",
        "### **Key session takeaways**\n",
        "\n",
        "* Import data into Python using `pandas` — Python’s most popular data analysis package.\n",
        "* Filter, add new columns, and analyse datasets using pandas.\n",
        "* Present data visualizations using `matplotlib` and `seaborn` — Python's most popular data visualization packages.\n",
        "\n",
        "### **The Dataset**\n",
        "\n",
        "The dataset to be used in this training is a CSV file named `airbnb.csv`, which contains data on airbnb listings in the state of New York. It contains the following columns:\n",
        "\n",
        "- `listing_id`: The unique identifier for a listing\n",
        "- `description`: The description used on the listing\n",
        "- `host_id`: Unique identifier for a host\n",
        "- `neighbourhood_full`: Name of boroughs and neighbourhoods\n",
        "- `coordinates`: Coordinates of listing _(latitude, longitude)_\n",
        "- `listing_added`: Date of added listing\n",
        "- `room_type`: Type of room \n",
        "- `rating`: Rating from 0 to 5.\n",
        "- `price`: Price per night for listing\n",
        "- `number_of_reviews`: Amount of reviews received \n",
        "- `reviews_per_month`: Number of reviews per month\n",
        "- `availability_365`: Number of days available per year\n",
        "- `number_of_stays`: Total number of stays thus far\n",
        "\n",
        "### **Questions to answer**\n",
        "\n",
        "- **Question 1:** What is the distribution of price per room type?\n",
        "- **Question 2:** What is the number of listings per borough?\n",
        "- **Question 3:** What is the number of listings per year?\n",
        "- **Question 4:** What is the number of listings per year in each borough?\n"
      ]
    },
    {
      "cell_type": "markdown",
      "metadata": {
        "id": "3iYheCTZ-kiq"
      },
      "source": [
        "## **Getting started**"
      ]
    },
    {
      "cell_type": "code",
      "metadata": {
        "id": "EMQfyC7GUNhT"
      },
      "source": [
        "# Import libraries\n",
        "import pandas as pd\n",
        "import matplotlib.pyplot as plt\n",
        "import seaborn as sns"
      ],
      "execution_count": 1,
      "outputs": []
    },
    {
      "cell_type": "markdown",
      "metadata": {
        "id": "AGaYTBLYQUEe"
      },
      "source": [
        "<font color=#03ef62>*To import a CSV file into* `pandas` *, we use* </font> `data = pd.read_csv(file_path)` <font color=#03ef62> *check out this [documentation](https://pandas.pydata.org/pandas-docs/stable/user_guide/io.html) for importing other data types*<font color=#03ef62>\n"
      ]
    },
    {
      "cell_type": "code",
      "metadata": {
        "id": "l8t_EwRNZPLB"
      },
      "source": [
        "# Read in the dataset\n",
        "airbnb = pd.read_csv('https://raw.githubusercontent.com/adelnehme/python-crash-course-an-introduction-to-spreadsheet-users/main/data/airbnb.csv', index_col = 0)"
      ],
      "execution_count": 2,
      "outputs": []
    },
    {
      "cell_type": "markdown",
      "metadata": {
        "id": "rGBXPrA0SEJZ"
      },
      "source": [
        "<font color=03ef62>*Some common methods needed to get a better understanding of your DataFrames:*<font color=03ef62>\n",
        "\n",
        "- `data.head()` <font color=03ef62>*prints the first 5 rows*</font>\n",
        "- `data.describe()` <font color=03ef62>*prints the distribution of numeric columns*</font>\n",
        "- `data.info()` <font color=03ef62>*prints the missingness and data types of columns*</font>"
      ]
    },
    {
      "cell_type": "code",
      "metadata": {
        "id": "QdUb07i370zA",
        "colab": {
          "base_uri": "https://localhost:8080/",
          "height": 496
        },
        "outputId": "fdba4534-2a98-417f-c5fe-9e5a28f91e89"
      },
      "source": [
        "# Inspect header of dataset\n",
        "airbnb.head()"
      ],
      "execution_count": 3,
      "outputs": [
        {
          "output_type": "execute_result",
          "data": {
            "text/plain": [
              "   listing_id                                        description      host_id  \\\n",
              "0    13740704  Cozy,budget friendly, cable inc, private entra...   20583125.0   \n",
              "1    22005115              Two floor apartment near Central Park   82746113.0   \n",
              "2     6425850                          Spacious, charming studio   32715865.0   \n",
              "3    22986519              Bedroom on the lively Lower East Side  154262349.0   \n",
              "4      271954                     Beautiful brownstone apartment    1423798.0   \n",
              "\n",
              "             neighbourhood_full            coordinates     room_type price  \\\n",
              "0           Brooklyn, Flatlands  (40.63222, -73.93398)  Private Room   45$   \n",
              "1    Manhattan, Upper West Side  (40.78761, -73.96862)  Entire place  135$   \n",
              "2    Manhattan, Upper West Side  (40.79169, -73.97498)  Entire place   86$   \n",
              "3    Manhattan, Lower East Side  (40.71884, -73.98354)  Private Room  160$   \n",
              "4  Manhattan, Greenwich Village  (40.73388, -73.99452)  Entire place  150$   \n",
              "\n",
              "   number_of_reviews  reviews_per_month  availability_365    rating  \\\n",
              "0                 10               0.70                85  4.100954   \n",
              "1                  1               1.00               145  3.367600   \n",
              "2                  5               0.13                 0  4.763203   \n",
              "3                 23               2.29               102  3.822591   \n",
              "4                203               2.22               300  4.478396   \n",
              "\n",
              "   number_of_stays listing_added  \n",
              "0             12.0    2018-06-08  \n",
              "1              1.2    2018-12-25  \n",
              "2              6.0    2017-03-20  \n",
              "3             27.6    2020-10-23  \n",
              "4            243.6    2018-12-15  "
            ],
            "text/html": [
              "\n",
              "  <div id=\"df-287c876e-c4ac-4b08-8e40-0de2ffd43223\">\n",
              "    <div class=\"colab-df-container\">\n",
              "      <div>\n",
              "<style scoped>\n",
              "    .dataframe tbody tr th:only-of-type {\n",
              "        vertical-align: middle;\n",
              "    }\n",
              "\n",
              "    .dataframe tbody tr th {\n",
              "        vertical-align: top;\n",
              "    }\n",
              "\n",
              "    .dataframe thead th {\n",
              "        text-align: right;\n",
              "    }\n",
              "</style>\n",
              "<table border=\"1\" class=\"dataframe\">\n",
              "  <thead>\n",
              "    <tr style=\"text-align: right;\">\n",
              "      <th></th>\n",
              "      <th>listing_id</th>\n",
              "      <th>description</th>\n",
              "      <th>host_id</th>\n",
              "      <th>neighbourhood_full</th>\n",
              "      <th>coordinates</th>\n",
              "      <th>room_type</th>\n",
              "      <th>price</th>\n",
              "      <th>number_of_reviews</th>\n",
              "      <th>reviews_per_month</th>\n",
              "      <th>availability_365</th>\n",
              "      <th>rating</th>\n",
              "      <th>number_of_stays</th>\n",
              "      <th>listing_added</th>\n",
              "    </tr>\n",
              "  </thead>\n",
              "  <tbody>\n",
              "    <tr>\n",
              "      <th>0</th>\n",
              "      <td>13740704</td>\n",
              "      <td>Cozy,budget friendly, cable inc, private entra...</td>\n",
              "      <td>20583125.0</td>\n",
              "      <td>Brooklyn, Flatlands</td>\n",
              "      <td>(40.63222, -73.93398)</td>\n",
              "      <td>Private Room</td>\n",
              "      <td>45$</td>\n",
              "      <td>10</td>\n",
              "      <td>0.70</td>\n",
              "      <td>85</td>\n",
              "      <td>4.100954</td>\n",
              "      <td>12.0</td>\n",
              "      <td>2018-06-08</td>\n",
              "    </tr>\n",
              "    <tr>\n",
              "      <th>1</th>\n",
              "      <td>22005115</td>\n",
              "      <td>Two floor apartment near Central Park</td>\n",
              "      <td>82746113.0</td>\n",
              "      <td>Manhattan, Upper West Side</td>\n",
              "      <td>(40.78761, -73.96862)</td>\n",
              "      <td>Entire place</td>\n",
              "      <td>135$</td>\n",
              "      <td>1</td>\n",
              "      <td>1.00</td>\n",
              "      <td>145</td>\n",
              "      <td>3.367600</td>\n",
              "      <td>1.2</td>\n",
              "      <td>2018-12-25</td>\n",
              "    </tr>\n",
              "    <tr>\n",
              "      <th>2</th>\n",
              "      <td>6425850</td>\n",
              "      <td>Spacious, charming studio</td>\n",
              "      <td>32715865.0</td>\n",
              "      <td>Manhattan, Upper West Side</td>\n",
              "      <td>(40.79169, -73.97498)</td>\n",
              "      <td>Entire place</td>\n",
              "      <td>86$</td>\n",
              "      <td>5</td>\n",
              "      <td>0.13</td>\n",
              "      <td>0</td>\n",
              "      <td>4.763203</td>\n",
              "      <td>6.0</td>\n",
              "      <td>2017-03-20</td>\n",
              "    </tr>\n",
              "    <tr>\n",
              "      <th>3</th>\n",
              "      <td>22986519</td>\n",
              "      <td>Bedroom on the lively Lower East Side</td>\n",
              "      <td>154262349.0</td>\n",
              "      <td>Manhattan, Lower East Side</td>\n",
              "      <td>(40.71884, -73.98354)</td>\n",
              "      <td>Private Room</td>\n",
              "      <td>160$</td>\n",
              "      <td>23</td>\n",
              "      <td>2.29</td>\n",
              "      <td>102</td>\n",
              "      <td>3.822591</td>\n",
              "      <td>27.6</td>\n",
              "      <td>2020-10-23</td>\n",
              "    </tr>\n",
              "    <tr>\n",
              "      <th>4</th>\n",
              "      <td>271954</td>\n",
              "      <td>Beautiful brownstone apartment</td>\n",
              "      <td>1423798.0</td>\n",
              "      <td>Manhattan, Greenwich Village</td>\n",
              "      <td>(40.73388, -73.99452)</td>\n",
              "      <td>Entire place</td>\n",
              "      <td>150$</td>\n",
              "      <td>203</td>\n",
              "      <td>2.22</td>\n",
              "      <td>300</td>\n",
              "      <td>4.478396</td>\n",
              "      <td>243.6</td>\n",
              "      <td>2018-12-15</td>\n",
              "    </tr>\n",
              "  </tbody>\n",
              "</table>\n",
              "</div>\n",
              "      <button class=\"colab-df-convert\" onclick=\"convertToInteractive('df-287c876e-c4ac-4b08-8e40-0de2ffd43223')\"\n",
              "              title=\"Convert this dataframe to an interactive table.\"\n",
              "              style=\"display:none;\">\n",
              "        \n",
              "  <svg xmlns=\"http://www.w3.org/2000/svg\" height=\"24px\"viewBox=\"0 0 24 24\"\n",
              "       width=\"24px\">\n",
              "    <path d=\"M0 0h24v24H0V0z\" fill=\"none\"/>\n",
              "    <path d=\"M18.56 5.44l.94 2.06.94-2.06 2.06-.94-2.06-.94-.94-2.06-.94 2.06-2.06.94zm-11 1L8.5 8.5l.94-2.06 2.06-.94-2.06-.94L8.5 2.5l-.94 2.06-2.06.94zm10 10l.94 2.06.94-2.06 2.06-.94-2.06-.94-.94-2.06-.94 2.06-2.06.94z\"/><path d=\"M17.41 7.96l-1.37-1.37c-.4-.4-.92-.59-1.43-.59-.52 0-1.04.2-1.43.59L10.3 9.45l-7.72 7.72c-.78.78-.78 2.05 0 2.83L4 21.41c.39.39.9.59 1.41.59.51 0 1.02-.2 1.41-.59l7.78-7.78 2.81-2.81c.8-.78.8-2.07 0-2.86zM5.41 20L4 18.59l7.72-7.72 1.47 1.35L5.41 20z\"/>\n",
              "  </svg>\n",
              "      </button>\n",
              "      \n",
              "  <style>\n",
              "    .colab-df-container {\n",
              "      display:flex;\n",
              "      flex-wrap:wrap;\n",
              "      gap: 12px;\n",
              "    }\n",
              "\n",
              "    .colab-df-convert {\n",
              "      background-color: #E8F0FE;\n",
              "      border: none;\n",
              "      border-radius: 50%;\n",
              "      cursor: pointer;\n",
              "      display: none;\n",
              "      fill: #1967D2;\n",
              "      height: 32px;\n",
              "      padding: 0 0 0 0;\n",
              "      width: 32px;\n",
              "    }\n",
              "\n",
              "    .colab-df-convert:hover {\n",
              "      background-color: #E2EBFA;\n",
              "      box-shadow: 0px 1px 2px rgba(60, 64, 67, 0.3), 0px 1px 3px 1px rgba(60, 64, 67, 0.15);\n",
              "      fill: #174EA6;\n",
              "    }\n",
              "\n",
              "    [theme=dark] .colab-df-convert {\n",
              "      background-color: #3B4455;\n",
              "      fill: #D2E3FC;\n",
              "    }\n",
              "\n",
              "    [theme=dark] .colab-df-convert:hover {\n",
              "      background-color: #434B5C;\n",
              "      box-shadow: 0px 1px 3px 1px rgba(0, 0, 0, 0.15);\n",
              "      filter: drop-shadow(0px 1px 2px rgba(0, 0, 0, 0.3));\n",
              "      fill: #FFFFFF;\n",
              "    }\n",
              "  </style>\n",
              "\n",
              "      <script>\n",
              "        const buttonEl =\n",
              "          document.querySelector('#df-287c876e-c4ac-4b08-8e40-0de2ffd43223 button.colab-df-convert');\n",
              "        buttonEl.style.display =\n",
              "          google.colab.kernel.accessAllowed ? 'block' : 'none';\n",
              "\n",
              "        async function convertToInteractive(key) {\n",
              "          const element = document.querySelector('#df-287c876e-c4ac-4b08-8e40-0de2ffd43223');\n",
              "          const dataTable =\n",
              "            await google.colab.kernel.invokeFunction('convertToInteractive',\n",
              "                                                     [key], {});\n",
              "          if (!dataTable) return;\n",
              "\n",
              "          const docLinkHtml = 'Like what you see? Visit the ' +\n",
              "            '<a target=\"_blank\" href=https://colab.research.google.com/notebooks/data_table.ipynb>data table notebook</a>'\n",
              "            + ' to learn more about interactive tables.';\n",
              "          element.innerHTML = '';\n",
              "          dataTable['output_type'] = 'display_data';\n",
              "          await google.colab.output.renderOutput(dataTable, element);\n",
              "          const docLink = document.createElement('div');\n",
              "          docLink.innerHTML = docLinkHtml;\n",
              "          element.appendChild(docLink);\n",
              "        }\n",
              "      </script>\n",
              "    </div>\n",
              "  </div>\n",
              "  "
            ]
          },
          "metadata": {},
          "execution_count": 3
        }
      ]
    },
    {
      "cell_type": "markdown",
      "metadata": {
        "id": "777CTtRq78ja"
      },
      "source": [
        "* _**Problem 1:** Taking a look at the_ `price` _column, it seems it's not a numeric data type_\n",
        "* _**Problem 2:** We need to extract the Borough from the_ `neighbourhood_full` _column_"
      ]
    },
    {
      "cell_type": "code",
      "metadata": {
        "id": "OwgWHyKF8b7F",
        "colab": {
          "base_uri": "https://localhost:8080/",
          "height": 288
        },
        "outputId": "528123c5-9b15-4527-c0d1-24a6d30eee38"
      },
      "source": [
        "# Check description of dataset\n",
        "airbnb.describe()"
      ],
      "execution_count": null,
      "outputs": [
        {
          "output_type": "execute_result",
          "data": {
            "text/html": [
              "<div>\n",
              "<style scoped>\n",
              "    .dataframe tbody tr th:only-of-type {\n",
              "        vertical-align: middle;\n",
              "    }\n",
              "\n",
              "    .dataframe tbody tr th {\n",
              "        vertical-align: top;\n",
              "    }\n",
              "\n",
              "    .dataframe thead th {\n",
              "        text-align: right;\n",
              "    }\n",
              "</style>\n",
              "<table border=\"1\" class=\"dataframe\">\n",
              "  <thead>\n",
              "    <tr style=\"text-align: right;\">\n",
              "      <th></th>\n",
              "      <th>listing_id</th>\n",
              "      <th>host_id</th>\n",
              "      <th>number_of_reviews</th>\n",
              "      <th>reviews_per_month</th>\n",
              "      <th>availability_365</th>\n",
              "      <th>rating</th>\n",
              "      <th>number_of_stays</th>\n",
              "    </tr>\n",
              "  </thead>\n",
              "  <tbody>\n",
              "    <tr>\n",
              "      <th>count</th>\n",
              "      <td>7.734000e+03</td>\n",
              "      <td>7.727000e+03</td>\n",
              "      <td>7734.000000</td>\n",
              "      <td>7734.000000</td>\n",
              "      <td>7734.000000</td>\n",
              "      <td>7734.000000</td>\n",
              "      <td>7734.000000</td>\n",
              "    </tr>\n",
              "    <tr>\n",
              "      <th>mean</th>\n",
              "      <td>1.838769e+07</td>\n",
              "      <td>6.481466e+07</td>\n",
              "      <td>28.355185</td>\n",
              "      <td>1.353746</td>\n",
              "      <td>114.546160</td>\n",
              "      <td>4.012199</td>\n",
              "      <td>34.026222</td>\n",
              "    </tr>\n",
              "    <tr>\n",
              "      <th>std</th>\n",
              "      <td>1.069230e+07</td>\n",
              "      <td>7.610154e+07</td>\n",
              "      <td>46.962275</td>\n",
              "      <td>1.613229</td>\n",
              "      <td>129.862583</td>\n",
              "      <td>0.574812</td>\n",
              "      <td>56.354729</td>\n",
              "    </tr>\n",
              "    <tr>\n",
              "      <th>min</th>\n",
              "      <td>3.831000e+03</td>\n",
              "      <td>2.787000e+03</td>\n",
              "      <td>1.000000</td>\n",
              "      <td>0.010000</td>\n",
              "      <td>0.000000</td>\n",
              "      <td>3.000633</td>\n",
              "      <td>1.200000</td>\n",
              "    </tr>\n",
              "    <tr>\n",
              "      <th>25%</th>\n",
              "      <td>9.028764e+06</td>\n",
              "      <td>7.155462e+06</td>\n",
              "      <td>3.000000</td>\n",
              "      <td>0.200000</td>\n",
              "      <td>0.000000</td>\n",
              "      <td>3.518918</td>\n",
              "      <td>3.600000</td>\n",
              "    </tr>\n",
              "    <tr>\n",
              "      <th>50%</th>\n",
              "      <td>1.930978e+07</td>\n",
              "      <td>2.951896e+07</td>\n",
              "      <td>9.000000</td>\n",
              "      <td>0.710000</td>\n",
              "      <td>54.000000</td>\n",
              "      <td>4.024223</td>\n",
              "      <td>10.800000</td>\n",
              "    </tr>\n",
              "    <tr>\n",
              "      <th>75%</th>\n",
              "      <td>2.790623e+07</td>\n",
              "      <td>1.017516e+08</td>\n",
              "      <td>32.000000</td>\n",
              "      <td>2.000000</td>\n",
              "      <td>230.000000</td>\n",
              "      <td>4.514173</td>\n",
              "      <td>38.400000</td>\n",
              "    </tr>\n",
              "    <tr>\n",
              "      <th>max</th>\n",
              "      <td>3.635113e+07</td>\n",
              "      <td>2.733615e+08</td>\n",
              "      <td>510.000000</td>\n",
              "      <td>16.220000</td>\n",
              "      <td>365.000000</td>\n",
              "      <td>4.999561</td>\n",
              "      <td>612.000000</td>\n",
              "    </tr>\n",
              "  </tbody>\n",
              "</table>\n",
              "</div>"
            ],
            "text/plain": [
              "         listing_id       host_id  ...       rating  number_of_stays\n",
              "count  7.734000e+03  7.727000e+03  ...  7734.000000      7734.000000\n",
              "mean   1.838769e+07  6.481466e+07  ...     4.012199        34.026222\n",
              "std    1.069230e+07  7.610154e+07  ...     0.574812        56.354729\n",
              "min    3.831000e+03  2.787000e+03  ...     3.000633         1.200000\n",
              "25%    9.028764e+06  7.155462e+06  ...     3.518918         3.600000\n",
              "50%    1.930978e+07  2.951896e+07  ...     4.024223        10.800000\n",
              "75%    2.790623e+07  1.017516e+08  ...     4.514173        38.400000\n",
              "max    3.635113e+07  2.733615e+08  ...     4.999561       612.000000\n",
              "\n",
              "[8 rows x 7 columns]"
            ]
          },
          "metadata": {
            "tags": []
          },
          "execution_count": 177
        }
      ]
    },
    {
      "cell_type": "code",
      "metadata": {
        "id": "1asOzFL-7oOi",
        "colab": {
          "base_uri": "https://localhost:8080/",
          "height": 363
        },
        "outputId": "f600b2ba-67a4-4f60-cc4e-e257f63c3979"
      },
      "source": [
        "# Check information of dataset\n",
        "airbnb.info()"
      ],
      "execution_count": null,
      "outputs": [
        {
          "output_type": "stream",
          "text": [
            "<class 'pandas.core.frame.DataFrame'>\n",
            "Int64Index: 7734 entries, 0 to 7733\n",
            "Data columns (total 13 columns):\n",
            " #   Column              Non-Null Count  Dtype  \n",
            "---  ------              --------------  -----  \n",
            " 0   listing_id          7734 non-null   int64  \n",
            " 1   description         7733 non-null   object \n",
            " 2   host_id             7727 non-null   float64\n",
            " 3   neighbourhood_full  7734 non-null   object \n",
            " 4   coordinates         7734 non-null   object \n",
            " 5   room_type           7734 non-null   object \n",
            " 6   price               7734 non-null   object \n",
            " 7   number_of_reviews   7734 non-null   int64  \n",
            " 8   reviews_per_month   7734 non-null   float64\n",
            " 9   availability_365    7734 non-null   int64  \n",
            " 10  rating              7734 non-null   float64\n",
            " 11  number_of_stays     7734 non-null   float64\n",
            " 12  listing_added       7734 non-null   object \n",
            "dtypes: float64(4), int64(3), object(6)\n",
            "memory usage: 845.9+ KB\n"
          ],
          "name": "stdout"
        }
      ]
    },
    {
      "cell_type": "markdown",
      "metadata": {
        "id": "Fu8BM83N8jZ_"
      },
      "source": [
        "* _**Problem 3:** From the output, it seems that we have missing data in_ `host_id`, `description` columns.\n",
        "* _**Problem 4:** We need to convert_ `listing_added` _column to date column._"
      ]
    },
    {
      "cell_type": "markdown",
      "metadata": {
        "id": "fC7RVpt-UcRD"
      },
      "source": [
        "## **Data Cleaning**"
      ]
    },
    {
      "cell_type": "markdown",
      "metadata": {
        "id": "rG5PDhllUXL7"
      },
      "source": [
        "### **Data cleaning to-do list!**\n",
        "\n",
        "_Data Type Problems_\n",
        "\n",
        "- _**Task 1**: Remove_ `$` _from_ `price` _and convert it to_ `float`\n",
        "- _**Task 2**: Convert_ `listing_added` _to_ `datetime`\n",
        "\n",
        "<br>\n",
        "\n",
        "_Text/categorical data problems:_\n",
        "\n",
        "- _**Task 3**: Extract borough from_ `neighbourhood_full`\n",
        "\n",
        "<br>\n",
        "\n",
        "_Dealing with missing data:_\n",
        "\n",
        "- _**Task 4**: Deal with missing data in_ `host_id` _and_ `description` _columns_\n",
        "\n",
        "<br>\n"
      ]
    },
    {
      "cell_type": "markdown",
      "metadata": {
        "id": "_WbgrwVHVLoU"
      },
      "source": [
        "##### **Task 1:** Remove `$` from `price` and convert it to `float`\n"
      ]
    },
    {
      "cell_type": "markdown",
      "metadata": {
        "id": "7ugtMIioXim8"
      },
      "source": [
        "<font color=\"03ef62\"> _To remove a character from a string column, we can use:_ </font>\n",
        "\n",
        "```\n",
        "data['column_name'] = data['column_name'].str.strip(character)\n",
        "```\n",
        "\n",
        "<font color=\"03ef62\"> _To convert a numeric column to a float, we can use:_ </font>\n",
        "\n",
        "```\n",
        "data['column_name'] = data['column_name'].astype('float')\n",
        "```"
      ]
    },
    {
      "cell_type": "code",
      "metadata": {
        "id": "yMm6udxH9O4C",
        "colab": {
          "base_uri": "https://localhost:8080/",
          "height": 285
        },
        "outputId": "e2c63053-c32f-490a-cb98-e05f29d8a093"
      },
      "source": [
        "# Strip $ from price column\n",
        "airbnb['price'] = airbnb['price'].str.strip('$')\n",
        "\n",
        "# Convert price column to float\n",
        "airbnb['price'] = airbnb['price'].astype('float')\n",
        "\n",
        "# Print header again\n",
        "airbnb.head()"
      ],
      "execution_count": null,
      "outputs": [
        {
          "output_type": "execute_result",
          "data": {
            "text/html": [
              "<div>\n",
              "<style scoped>\n",
              "    .dataframe tbody tr th:only-of-type {\n",
              "        vertical-align: middle;\n",
              "    }\n",
              "\n",
              "    .dataframe tbody tr th {\n",
              "        vertical-align: top;\n",
              "    }\n",
              "\n",
              "    .dataframe thead th {\n",
              "        text-align: right;\n",
              "    }\n",
              "</style>\n",
              "<table border=\"1\" class=\"dataframe\">\n",
              "  <thead>\n",
              "    <tr style=\"text-align: right;\">\n",
              "      <th></th>\n",
              "      <th>listing_id</th>\n",
              "      <th>description</th>\n",
              "      <th>host_id</th>\n",
              "      <th>neighbourhood_full</th>\n",
              "      <th>coordinates</th>\n",
              "      <th>room_type</th>\n",
              "      <th>price</th>\n",
              "      <th>number_of_reviews</th>\n",
              "      <th>reviews_per_month</th>\n",
              "      <th>availability_365</th>\n",
              "      <th>rating</th>\n",
              "      <th>number_of_stays</th>\n",
              "      <th>listing_added</th>\n",
              "    </tr>\n",
              "  </thead>\n",
              "  <tbody>\n",
              "    <tr>\n",
              "      <th>0</th>\n",
              "      <td>13740704</td>\n",
              "      <td>Cozy,budget friendly, cable inc, private entra...</td>\n",
              "      <td>20583125.0</td>\n",
              "      <td>Brooklyn, Flatlands</td>\n",
              "      <td>(40.63222, -73.93398)</td>\n",
              "      <td>Private Room</td>\n",
              "      <td>45.0</td>\n",
              "      <td>10</td>\n",
              "      <td>0.70</td>\n",
              "      <td>85</td>\n",
              "      <td>4.100954</td>\n",
              "      <td>12.0</td>\n",
              "      <td>2018-06-08</td>\n",
              "    </tr>\n",
              "    <tr>\n",
              "      <th>1</th>\n",
              "      <td>22005115</td>\n",
              "      <td>Two floor apartment near Central Park</td>\n",
              "      <td>82746113.0</td>\n",
              "      <td>Manhattan, Upper West Side</td>\n",
              "      <td>(40.78761, -73.96862)</td>\n",
              "      <td>Entire place</td>\n",
              "      <td>135.0</td>\n",
              "      <td>1</td>\n",
              "      <td>1.00</td>\n",
              "      <td>145</td>\n",
              "      <td>3.367600</td>\n",
              "      <td>1.2</td>\n",
              "      <td>2018-12-25</td>\n",
              "    </tr>\n",
              "    <tr>\n",
              "      <th>2</th>\n",
              "      <td>6425850</td>\n",
              "      <td>Spacious, charming studio</td>\n",
              "      <td>32715865.0</td>\n",
              "      <td>Manhattan, Upper West Side</td>\n",
              "      <td>(40.79169, -73.97498)</td>\n",
              "      <td>Entire place</td>\n",
              "      <td>86.0</td>\n",
              "      <td>5</td>\n",
              "      <td>0.13</td>\n",
              "      <td>0</td>\n",
              "      <td>4.763203</td>\n",
              "      <td>6.0</td>\n",
              "      <td>2017-03-20</td>\n",
              "    </tr>\n",
              "    <tr>\n",
              "      <th>3</th>\n",
              "      <td>22986519</td>\n",
              "      <td>Bedroom on the lively Lower East Side</td>\n",
              "      <td>154262349.0</td>\n",
              "      <td>Manhattan, Lower East Side</td>\n",
              "      <td>(40.71884, -73.98354)</td>\n",
              "      <td>Private Room</td>\n",
              "      <td>160.0</td>\n",
              "      <td>23</td>\n",
              "      <td>2.29</td>\n",
              "      <td>102</td>\n",
              "      <td>3.822591</td>\n",
              "      <td>27.6</td>\n",
              "      <td>2020-10-23</td>\n",
              "    </tr>\n",
              "    <tr>\n",
              "      <th>4</th>\n",
              "      <td>271954</td>\n",
              "      <td>Beautiful brownstone apartment</td>\n",
              "      <td>1423798.0</td>\n",
              "      <td>Manhattan, Greenwich Village</td>\n",
              "      <td>(40.73388, -73.99452)</td>\n",
              "      <td>Entire place</td>\n",
              "      <td>150.0</td>\n",
              "      <td>203</td>\n",
              "      <td>2.22</td>\n",
              "      <td>300</td>\n",
              "      <td>4.478396</td>\n",
              "      <td>243.6</td>\n",
              "      <td>2018-12-15</td>\n",
              "    </tr>\n",
              "  </tbody>\n",
              "</table>\n",
              "</div>"
            ],
            "text/plain": [
              "   listing_id  ... listing_added\n",
              "0    13740704  ...    2018-06-08\n",
              "1    22005115  ...    2018-12-25\n",
              "2     6425850  ...    2017-03-20\n",
              "3    22986519  ...    2020-10-23\n",
              "4      271954  ...    2018-12-15\n",
              "\n",
              "[5 rows x 13 columns]"
            ]
          },
          "metadata": {
            "tags": []
          },
          "execution_count": 8
        }
      ]
    },
    {
      "cell_type": "markdown",
      "metadata": {
        "id": "_yDCiMLSYsBH"
      },
      "source": [
        "##### **Task 2:** Convert `listing_added` to `datetime`\n",
        "\n",
        "<font color=\"03ef62\"> _To convert a date column to_ </font> `datetime`<font color=\"03ef62\">_, we can use:_\n",
        "\n",
        "\n",
        "```\n",
        "data['column_name'] = pd.to_datetime(data['column_name'])\n",
        "```"
      ]
    },
    {
      "cell_type": "code",
      "metadata": {
        "id": "g_sXwhjNYreC",
        "colab": {
          "base_uri": "https://localhost:8080/",
          "height": 363
        },
        "outputId": "c282120b-44f3-430a-f440-b5fd63dd0196"
      },
      "source": [
        "# Convert listing_added to datetime\n",
        "airbnb['listing_added'] = pd.to_datetime(airbnb['listing_added'])\n",
        "\n",
        "# Print info again\n",
        "airbnb.info()"
      ],
      "execution_count": null,
      "outputs": [
        {
          "output_type": "stream",
          "text": [
            "<class 'pandas.core.frame.DataFrame'>\n",
            "Int64Index: 7734 entries, 0 to 7733\n",
            "Data columns (total 13 columns):\n",
            " #   Column              Non-Null Count  Dtype         \n",
            "---  ------              --------------  -----         \n",
            " 0   listing_id          7734 non-null   int64         \n",
            " 1   description         7733 non-null   object        \n",
            " 2   host_id             7727 non-null   float64       \n",
            " 3   neighbourhood_full  7734 non-null   object        \n",
            " 4   coordinates         7734 non-null   object        \n",
            " 5   room_type           7734 non-null   object        \n",
            " 6   price               7734 non-null   float64       \n",
            " 7   number_of_reviews   7734 non-null   int64         \n",
            " 8   reviews_per_month   7734 non-null   float64       \n",
            " 9   availability_365    7734 non-null   int64         \n",
            " 10  rating              7734 non-null   float64       \n",
            " 11  number_of_stays     7734 non-null   float64       \n",
            " 12  listing_added       7734 non-null   datetime64[ns]\n",
            "dtypes: datetime64[ns](1), float64(5), int64(3), object(4)\n",
            "memory usage: 845.9+ KB\n"
          ],
          "name": "stdout"
        }
      ]
    },
    {
      "cell_type": "markdown",
      "metadata": {
        "id": "9GkHzvjoZkKn"
      },
      "source": [
        "##### **Task 3:** Extract borough from `neighbourhood_full` column\n",
        "\n",
        "<font color=\"03ef62\"> _To split a column into multiple columns, we can use:_</font>\n",
        "\n",
        "```\n",
        "split_data = data['column_name'].str.split(',', expand = True)\n",
        "```\n"
      ]
    },
    {
      "cell_type": "code",
      "metadata": {
        "id": "HLChdRXM9rKe",
        "colab": {
          "base_uri": "https://localhost:8080/",
          "height": 407
        },
        "outputId": "b3b40e66-1137-4598-e7bc-201e4a81a1f9"
      },
      "source": [
        "# Create new DataFrame with split column\n",
        "borough_neighbourhood = airbnb['neighbourhood_full'].str.split(',', expand = True)\n",
        "\n",
        "borough_neighbourhood"
      ],
      "execution_count": null,
      "outputs": [
        {
          "output_type": "execute_result",
          "data": {
            "text/html": [
              "<div>\n",
              "<style scoped>\n",
              "    .dataframe tbody tr th:only-of-type {\n",
              "        vertical-align: middle;\n",
              "    }\n",
              "\n",
              "    .dataframe tbody tr th {\n",
              "        vertical-align: top;\n",
              "    }\n",
              "\n",
              "    .dataframe thead th {\n",
              "        text-align: right;\n",
              "    }\n",
              "</style>\n",
              "<table border=\"1\" class=\"dataframe\">\n",
              "  <thead>\n",
              "    <tr style=\"text-align: right;\">\n",
              "      <th></th>\n",
              "      <th>0</th>\n",
              "      <th>1</th>\n",
              "    </tr>\n",
              "  </thead>\n",
              "  <tbody>\n",
              "    <tr>\n",
              "      <th>0</th>\n",
              "      <td>Brooklyn</td>\n",
              "      <td>Flatlands</td>\n",
              "    </tr>\n",
              "    <tr>\n",
              "      <th>1</th>\n",
              "      <td>Manhattan</td>\n",
              "      <td>Upper West Side</td>\n",
              "    </tr>\n",
              "    <tr>\n",
              "      <th>2</th>\n",
              "      <td>Manhattan</td>\n",
              "      <td>Upper West Side</td>\n",
              "    </tr>\n",
              "    <tr>\n",
              "      <th>3</th>\n",
              "      <td>Manhattan</td>\n",
              "      <td>Lower East Side</td>\n",
              "    </tr>\n",
              "    <tr>\n",
              "      <th>4</th>\n",
              "      <td>Manhattan</td>\n",
              "      <td>Greenwich Village</td>\n",
              "    </tr>\n",
              "    <tr>\n",
              "      <th>...</th>\n",
              "      <td>...</td>\n",
              "      <td>...</td>\n",
              "    </tr>\n",
              "    <tr>\n",
              "      <th>7729</th>\n",
              "      <td>Manhattan</td>\n",
              "      <td>Harlem</td>\n",
              "    </tr>\n",
              "    <tr>\n",
              "      <th>7730</th>\n",
              "      <td>Manhattan</td>\n",
              "      <td>East Harlem</td>\n",
              "    </tr>\n",
              "    <tr>\n",
              "      <th>7731</th>\n",
              "      <td>Brooklyn</td>\n",
              "      <td>Clinton Hill</td>\n",
              "    </tr>\n",
              "    <tr>\n",
              "      <th>7732</th>\n",
              "      <td>Brooklyn</td>\n",
              "      <td>Clinton Hill</td>\n",
              "    </tr>\n",
              "    <tr>\n",
              "      <th>7733</th>\n",
              "      <td>Manhattan</td>\n",
              "      <td>Upper East Side</td>\n",
              "    </tr>\n",
              "  </tbody>\n",
              "</table>\n",
              "<p>7734 rows × 2 columns</p>\n",
              "</div>"
            ],
            "text/plain": [
              "              0                   1\n",
              "0      Brooklyn           Flatlands\n",
              "1     Manhattan     Upper West Side\n",
              "2     Manhattan     Upper West Side\n",
              "3     Manhattan     Lower East Side\n",
              "4     Manhattan   Greenwich Village\n",
              "...         ...                 ...\n",
              "7729  Manhattan              Harlem\n",
              "7730  Manhattan         East Harlem\n",
              "7731   Brooklyn        Clinton Hill\n",
              "7732   Brooklyn        Clinton Hill\n",
              "7733  Manhattan     Upper East Side\n",
              "\n",
              "[7734 rows x 2 columns]"
            ]
          },
          "metadata": {
            "tags": []
          },
          "execution_count": 10
        }
      ]
    },
    {
      "cell_type": "code",
      "metadata": {
        "id": "NO79JROB-CF-",
        "colab": {
          "base_uri": "https://localhost:8080/",
          "height": 198
        },
        "outputId": "f5ca49e4-383f-49d6-eb6c-0e8e511d5a90"
      },
      "source": [
        "# Create borough and neighbourhood columns\n",
        "airbnb['borough'] = borough_neighbourhood[0]\n",
        "airbnb['neighbourhood'] = borough_neighbourhood[1]\n",
        "\n",
        "# Print header of columns\n",
        "airbnb[['neighbourhood_full', 'borough', 'neighbourhood']].head()"
      ],
      "execution_count": null,
      "outputs": [
        {
          "output_type": "execute_result",
          "data": {
            "text/html": [
              "<div>\n",
              "<style scoped>\n",
              "    .dataframe tbody tr th:only-of-type {\n",
              "        vertical-align: middle;\n",
              "    }\n",
              "\n",
              "    .dataframe tbody tr th {\n",
              "        vertical-align: top;\n",
              "    }\n",
              "\n",
              "    .dataframe thead th {\n",
              "        text-align: right;\n",
              "    }\n",
              "</style>\n",
              "<table border=\"1\" class=\"dataframe\">\n",
              "  <thead>\n",
              "    <tr style=\"text-align: right;\">\n",
              "      <th></th>\n",
              "      <th>neighbourhood_full</th>\n",
              "      <th>borough</th>\n",
              "      <th>neighbourhood</th>\n",
              "    </tr>\n",
              "  </thead>\n",
              "  <tbody>\n",
              "    <tr>\n",
              "      <th>0</th>\n",
              "      <td>Brooklyn, Flatlands</td>\n",
              "      <td>Brooklyn</td>\n",
              "      <td>Flatlands</td>\n",
              "    </tr>\n",
              "    <tr>\n",
              "      <th>1</th>\n",
              "      <td>Manhattan, Upper West Side</td>\n",
              "      <td>Manhattan</td>\n",
              "      <td>Upper West Side</td>\n",
              "    </tr>\n",
              "    <tr>\n",
              "      <th>2</th>\n",
              "      <td>Manhattan, Upper West Side</td>\n",
              "      <td>Manhattan</td>\n",
              "      <td>Upper West Side</td>\n",
              "    </tr>\n",
              "    <tr>\n",
              "      <th>3</th>\n",
              "      <td>Manhattan, Lower East Side</td>\n",
              "      <td>Manhattan</td>\n",
              "      <td>Lower East Side</td>\n",
              "    </tr>\n",
              "    <tr>\n",
              "      <th>4</th>\n",
              "      <td>Manhattan, Greenwich Village</td>\n",
              "      <td>Manhattan</td>\n",
              "      <td>Greenwich Village</td>\n",
              "    </tr>\n",
              "  </tbody>\n",
              "</table>\n",
              "</div>"
            ],
            "text/plain": [
              "             neighbourhood_full    borough       neighbourhood\n",
              "0           Brooklyn, Flatlands   Brooklyn           Flatlands\n",
              "1    Manhattan, Upper West Side  Manhattan     Upper West Side\n",
              "2    Manhattan, Upper West Side  Manhattan     Upper West Side\n",
              "3    Manhattan, Lower East Side  Manhattan     Lower East Side\n",
              "4  Manhattan, Greenwich Village  Manhattan   Greenwich Village"
            ]
          },
          "metadata": {
            "tags": []
          },
          "execution_count": 11
        }
      ]
    },
    {
      "cell_type": "code",
      "metadata": {
        "id": "7AmAW7HL-QeT"
      },
      "source": [
        "# Drop original neighbourhood_full column\n",
        "airbnb.drop('neighbourhood_full', axis = 1 , inplace = True)"
      ],
      "execution_count": null,
      "outputs": []
    },
    {
      "cell_type": "markdown",
      "metadata": {
        "id": "I83nD4hkalO6"
      },
      "source": [
        "##### **Task 4:** Deal with missing values in `host_id` and `description` columns\n",
        "\n",
        "\n",
        "<font color=\"03ef62\"> _To count and drop missing values in a DataFrame, you can use the following:_</font>\n",
        "\n",
        "- `data.isna().sum()` <font color=\"03ef62\">_to count missing values_</font>\n",
        "- `data.dropna()` <font color=\"03ef62\">_drops missing values_</font>"
      ]
    },
    {
      "cell_type": "code",
      "metadata": {
        "id": "ivcJHiXV-fSx",
        "colab": {
          "base_uri": "https://localhost:8080/",
          "height": 276
        },
        "outputId": "bcb410ad-5373-455c-ed05-ecf2e3163e3e"
      },
      "source": [
        "# Find missing values\n",
        "airbnb.isna().sum()"
      ],
      "execution_count": null,
      "outputs": [
        {
          "output_type": "execute_result",
          "data": {
            "text/plain": [
              "listing_id           0\n",
              "description          1\n",
              "host_id              7\n",
              "coordinates          0\n",
              "room_type            0\n",
              "price                0\n",
              "number_of_reviews    0\n",
              "reviews_per_month    0\n",
              "availability_365     0\n",
              "rating               0\n",
              "number_of_stays      0\n",
              "listing_added        0\n",
              "borough              0\n",
              "neighbourhood        0\n",
              "dtype: int64"
            ]
          },
          "metadata": {
            "tags": []
          },
          "execution_count": 10
        }
      ]
    },
    {
      "cell_type": "code",
      "metadata": {
        "id": "-MhQ9CKk_gbE",
        "colab": {
          "base_uri": "https://localhost:8080/",
          "height": 276
        },
        "outputId": "da80b1eb-38bb-40fe-fc1f-e9f290bb7a00"
      },
      "source": [
        "# Drop missing values\n",
        "airbnb = airbnb.dropna()\n",
        "# Count missing values again\n",
        "airbnb.isna().sum()"
      ],
      "execution_count": null,
      "outputs": [
        {
          "output_type": "execute_result",
          "data": {
            "text/plain": [
              "listing_id           0\n",
              "description          0\n",
              "host_id              0\n",
              "coordinates          0\n",
              "room_type            0\n",
              "price                0\n",
              "number_of_reviews    0\n",
              "reviews_per_month    0\n",
              "availability_365     0\n",
              "rating               0\n",
              "number_of_stays      0\n",
              "listing_added        0\n",
              "borough              0\n",
              "neighbourhood        0\n",
              "dtype: int64"
            ]
          },
          "metadata": {
            "tags": []
          },
          "execution_count": 13
        }
      ]
    },
    {
      "cell_type": "markdown",
      "metadata": {
        "id": "DQ7_YaiI_buy"
      },
      "source": [
        "\n",
        "\n",
        "---\n",
        "\n",
        "<center><h1> Q&A</h1> </center>\n",
        "\n",
        "---\n",
        "\n",
        "\n",
        "\n"
      ]
    },
    {
      "cell_type": "markdown",
      "metadata": {
        "id": "Af25ZWEsccse"
      },
      "source": [
        "## **Data Analysis and Visualization**"
      ]
    },
    {
      "cell_type": "markdown",
      "metadata": {
        "id": "ucpwJpmacfem"
      },
      "source": [
        "##### **Question 1:** What is the distribution of price per room type?\n",
        "\n",
        "\n",
        "<p align=\"center\">\n",
        "<img src=\"https://github.com/adelnehme/python-crash-course-an-introduction-to-spreadsheet-users/blob/main/assets/boxplot_image.png?raw=true\" alt = \"boxplot\" width=\"65%\">\n",
        "</p>\n",
        "\n",
        "\n",
        "<font color=\"03ef62\"> _To create a boxplot using_</font> `seaborn`<font color=\"03ef62\"> _we can use:_</font>\n",
        "\n",
        "- `sns.boxplot(x = , y = , data = )`\n",
        "  - `x`: <font color=\"03ef62\"> _column name on x-axis_</font> \n",
        "  - `y`: <font color=\"03ef62\"> _column name on y-axis_</font> \n",
        "  - `data`: <font color=\"03ef62\"> _data being used_</font> \n",
        "- `plt.title()`: <font color=\"03ef62\"> _sets plot title_</font> \n",
        "- `plt.xlabel()`: <font color=\"03ef62\"> _sets x-axis label_</font> \n",
        "- `plt.ylabel()`: <font color=\"03ef62\"> _sets y-axis label_</font> \n",
        "- `plt.show()`: <font color=\"03ef62\"> _shows plot_</font>  \n"
      ]
    },
    {
      "cell_type": "code",
      "metadata": {
        "id": "aJkzeme6F-_Z",
        "colab": {
          "base_uri": "https://localhost:8080/",
          "height": 404
        },
        "outputId": "2342a52d-ce51-40d3-b247-aca3ee567e49"
      },
      "source": [
        "# Visualize price by room type\n",
        "plt.figure(figsize = (8,6))\n",
        "\n",
        "# Create plot\n",
        "sns.boxplot(x = 'room_type', y = 'price', data = airbnb)\n",
        "\n",
        "# Set titles and labels of plot\n",
        "plt.title('Price distribution by room type below 600 dollars/night')\n",
        "plt.ylabel('Price')\n",
        "plt.xlabel('Room Type')\n",
        "\n",
        "# Set y-axis limit\n",
        "plt.ylim(0,400)\n",
        "\n",
        "# Show plot\n",
        "plt.show()"
      ],
      "execution_count": null,
      "outputs": [
        {
          "output_type": "display_data",
          "data": {
            "image/png": "[encoded data removed]",
            "text/plain": [
              "<Figure size 576x432 with 1 Axes>"
            ]
          },
          "metadata": {
            "tags": [],
            "needs_background": "light"
          }
        }
      ]
    },
    {
      "cell_type": "markdown",
      "metadata": {
        "id": "UygF0fk_c6ju"
      },
      "source": [
        "##### **Question 2:** What are the number of listings per borough?"
      ]
    },
    {
      "cell_type": "markdown",
      "metadata": {
        "id": "TdmAosgRr_uo"
      },
      "source": [
        "<font color=\"03ef62\"> _To easily show the count of observations in each category using_</font> `seaborn`<font color=\"03ef62\"> _we can use:_</font>\n",
        "\n",
        "- `sns.countplot(x = , data = )`\n",
        "  - `x`: <font color=\"03ef62\"> _categorical column name on x-axis_</font> \n",
        "  - `data`: <font color=\"03ef62\"> _data being used_</font> \n",
        "- `plt.title()`: <font color=\"03ef62\"> _sets plot title_</font> \n",
        "- `plt.xlabel()`: <font color=\"03ef62\"> _sets x-axis label_</font> \n",
        "- `plt.ylabel()`: <font color=\"03ef62\"> _sets y-axis label_</font> \n",
        "- `plt.show()`: <font color=\"03ef62\"> _shows plot_</font>  "
      ]
    },
    {
      "cell_type": "code",
      "metadata": {
        "id": "bYoXuZrPIcK4",
        "colab": {
          "base_uri": "https://localhost:8080/",
          "height": 295
        },
        "outputId": "8e307e38-48ed-4902-8594-42ca495a1270"
      },
      "source": [
        "# Count the amount of listings per borough\n",
        "sns.countplot(x = 'borough', data = airbnb)\n",
        "\n",
        "# Set titles and labels of plot\n",
        "plt.title('Number of listings per Borough')\n",
        "plt.ylabel('Number of listings')\n",
        "plt.xlabel('Borough')\n",
        "\n",
        "# Show plot\n",
        "plt.show()"
      ],
      "execution_count": null,
      "outputs": [
        {
          "output_type": "display_data",
          "data": {
            "image/png": "[encoded data removed]",
            "text/plain": [
              "<Figure size 432x288 with 1 Axes>"
            ]
          },
          "metadata": {
            "tags": [],
            "needs_background": "light"
          }
        }
      ]
    },
    {
      "cell_type": "markdown",
      "metadata": {
        "id": "SYAO_vpydLGS"
      },
      "source": [
        "##### **Question 3:** What are the number of listings per year?"
      ]
    },
    {
      "cell_type": "code",
      "metadata": {
        "id": "VMw8SMQYMDmW"
      },
      "source": [
        "# Extract listing year column from listing_added column\n",
        "airbnb['listing_year'] = airbnb['listing_added'].dt.year"
      ],
      "execution_count": null,
      "outputs": []
    },
    {
      "cell_type": "code",
      "metadata": {
        "id": "CubbpSwbdkYp",
        "colab": {
          "base_uri": "https://localhost:8080/",
          "height": 404
        },
        "outputId": "cfc4614d-067c-463a-cf91-c9f552b35919"
      },
      "source": [
        "# Set figure size\n",
        "plt.figure(figsize = (8,6))\n",
        "\n",
        "# Count the number of listings per year\n",
        "sns.countplot(x = 'listing_year', data = airbnb)\n",
        "\n",
        "# Set titles and labels of plot\n",
        "plt.title('Number of listings over time')\n",
        "plt.ylabel('Number of listings')\n",
        "plt.xlabel('Listing Year')\n",
        "\n",
        "# Show plot\n",
        "plt.show()"
      ],
      "execution_count": null,
      "outputs": [
        {
          "output_type": "display_data",
          "data": {
            "image/png": "[encoded data removed]",
            "text/plain": [
              "<Figure size 576x432 with 1 Axes>"
            ]
          },
          "metadata": {
            "tags": [],
            "needs_background": "light"
          }
        }
      ]
    },
    {
      "cell_type": "markdown",
      "metadata": {
        "id": "2BQMyv8gdr2p"
      },
      "source": [
        "##### **Question 4:** What are the number of listings per year in each borough?"
      ]
    },
    {
      "cell_type": "code",
      "metadata": {
        "id": "deHFhfRMNfTt",
        "colab": {
          "base_uri": "https://localhost:8080/",
          "height": 404
        },
        "outputId": "bc78dc0a-1259-4b22-d561-df1b4e7df554"
      },
      "source": [
        "# Set figure size\n",
        "plt.figure(figsize = (12,6))\n",
        "\n",
        "# Count the number of listings per year for each borough\n",
        "sns.countplot(x = 'listing_year', data = airbnb, hue = 'borough')\n",
        "\n",
        "# Set titles and labels of plot\n",
        "plt.title('Number of listings over time by borough')\n",
        "plt.ylabel('Number of listings')\n",
        "plt.xlabel('Listing Year')\n",
        "\n",
        "# Show title\n",
        "plt.show()"
      ],
      "execution_count": null,
      "outputs": [
        {
          "output_type": "display_data",
          "data": {
            "image/png": "[encoded data removed]",
            "text/plain": [
              "<Figure size 864x432 with 1 Axes>"
            ]
          },
          "metadata": {
            "tags": [],
            "needs_background": "light"
          }
        }
      ]
    },
    {
      "cell_type": "markdown",
      "metadata": {
        "id": "DiWWq3D6_tPP"
      },
      "source": [
        "\n",
        "\n",
        "---\n",
        "\n",
        "<center><h1> Q&A</h1> </center>\n",
        "\n",
        "---\n",
        "\n",
        "\n",
        "\n"
      ]
    }
  ]
}
